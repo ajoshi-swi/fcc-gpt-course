{
 "cells": [
  {
   "cell_type": "code",
   "execution_count": null,
   "id": "f1f489c6-8dd2-470c-ab2e-de8cc4062122",
   "metadata": {},
   "outputs": [],
   "source": [
    "!pip install numpy > 2"
   ]
  },
  {
   "cell_type": "code",
   "execution_count": 6,
   "id": "19c14060-18d4-442d-81af-a0411a13477e",
   "metadata": {},
   "outputs": [
    {
     "name": "stdout",
     "output_type": "stream",
     "text": [
      "cpu\n"
     ]
    }
   ],
   "source": [
    "import torch\n",
    "import numpy as np\n",
    "import time\n",
    "import torch.nn as nn\n",
    "\n",
    "device  = 'cuda' if torch.cuda.is_available() else 'cpu'\n",
    "print(device)"
   ]
  },
  {
   "cell_type": "code",
   "execution_count": 3,
   "id": "ec6ea236-90af-4b32-b954-e29f3190bddb",
   "metadata": {},
   "outputs": [],
   "source": [
    "randint  = torch.randint(-100, 100, (6,))"
   ]
  },
  {
   "cell_type": "code",
   "execution_count": 4,
   "id": "862ccc10-a829-4124-b655-87f3b54a3ce5",
   "metadata": {},
   "outputs": [
    {
     "data": {
      "text/plain": [
       "tensor([ 30,  -9, -76,  74,  52, -85])"
      ]
     },
     "execution_count": 4,
     "metadata": {},
     "output_type": "execute_result"
    }
   ],
   "source": [
    "randint"
   ]
  },
  {
   "cell_type": "code",
   "execution_count": 5,
   "id": "5221f0eb-e330-40b5-ba0f-025e93f10c98",
   "metadata": {},
   "outputs": [
    {
     "data": {
      "text/plain": [
       "torch.Tensor"
      ]
     },
     "execution_count": 5,
     "metadata": {},
     "output_type": "execute_result"
    }
   ],
   "source": [
    "type(randint)"
   ]
  },
  {
   "cell_type": "code",
   "execution_count": 6,
   "id": "2b5055c6-f73a-454d-b853-845ff4b38370",
   "metadata": {},
   "outputs": [],
   "source": [
    "tensor = torch.tensor([[1.1,2.2],[1.3,4.5],[5.6,9.8]])"
   ]
  },
  {
   "cell_type": "code",
   "execution_count": 7,
   "id": "2b3cf897-94ff-4212-93c0-149199447340",
   "metadata": {},
   "outputs": [
    {
     "data": {
      "text/plain": [
       "tensor([[1.1000, 2.2000],\n",
       "        [1.3000, 4.5000],\n",
       "        [5.6000, 9.8000]])"
      ]
     },
     "execution_count": 7,
     "metadata": {},
     "output_type": "execute_result"
    }
   ],
   "source": [
    "tensor"
   ]
  },
  {
   "cell_type": "code",
   "execution_count": 8,
   "id": "4bdd080a-2ae8-44db-95c4-4d732e6d8391",
   "metadata": {},
   "outputs": [
    {
     "data": {
      "text/plain": [
       "torch.Size([3, 2])"
      ]
     },
     "execution_count": 8,
     "metadata": {},
     "output_type": "execute_result"
    }
   ],
   "source": [
    "tensor.shape"
   ]
  },
  {
   "cell_type": "code",
   "execution_count": 9,
   "id": "25f44e7b-68a5-4229-9b06-6713f84f20ab",
   "metadata": {},
   "outputs": [
    {
     "data": {
      "text/plain": [
       "torch.Tensor"
      ]
     },
     "execution_count": 9,
     "metadata": {},
     "output_type": "execute_result"
    }
   ],
   "source": [
    "type(tensor)\n"
   ]
  },
  {
   "cell_type": "code",
   "execution_count": 10,
   "id": "985d54af-5aa6-472f-b5be-2b715425ae7a",
   "metadata": {},
   "outputs": [
    {
     "data": {
      "text/plain": [
       "torch.Size([3, 2])"
      ]
     },
     "execution_count": 10,
     "metadata": {},
     "output_type": "execute_result"
    }
   ],
   "source": [
    "tensor.size()"
   ]
  },
  {
   "cell_type": "code",
   "execution_count": 11,
   "id": "56a5a76a-2093-4e9a-b5a9-f7578ad852ef",
   "metadata": {},
   "outputs": [
    {
     "data": {
      "text/plain": [
       "True"
      ]
     },
     "execution_count": 11,
     "metadata": {},
     "output_type": "execute_result"
    }
   ],
   "source": [
    "tensor.shape == tensor.size()"
   ]
  },
  {
   "cell_type": "code",
   "execution_count": 12,
   "id": "66d86a9d-aebc-4d6b-8858-3509aefcd97c",
   "metadata": {},
   "outputs": [],
   "source": [
    "zeros = torch.zeros(3,2)"
   ]
  },
  {
   "cell_type": "code",
   "execution_count": 13,
   "id": "d18ba106-6633-46d3-94d0-f553f2e6d5b6",
   "metadata": {},
   "outputs": [
    {
     "data": {
      "text/plain": [
       "tensor([[0., 0.],\n",
       "        [0., 0.],\n",
       "        [0., 0.]])"
      ]
     },
     "execution_count": 13,
     "metadata": {},
     "output_type": "execute_result"
    }
   ],
   "source": [
    "zeros"
   ]
  },
  {
   "cell_type": "code",
   "execution_count": 14,
   "id": "99db994d-564a-4253-bdcd-95e3b8000a87",
   "metadata": {},
   "outputs": [
    {
     "name": "stdout",
     "output_type": "stream",
     "text": [
      "<class 'torch.Tensor'>\n"
     ]
    }
   ],
   "source": [
    "print(type(zeros[1,1]))\n"
   ]
  },
  {
   "cell_type": "code",
   "execution_count": 15,
   "id": "17b0a1cd-960c-47f8-8562-b24e31e2c78a",
   "metadata": {},
   "outputs": [],
   "source": [
    "ones = torch.ones(3,4)"
   ]
  },
  {
   "cell_type": "code",
   "execution_count": 16,
   "id": "1138b916-3c58-42bb-af34-a381a2f38ced",
   "metadata": {},
   "outputs": [
    {
     "data": {
      "text/plain": [
       "tensor([[1., 1., 1., 1.],\n",
       "        [1., 1., 1., 1.],\n",
       "        [1., 1., 1., 1.]])"
      ]
     },
     "execution_count": 16,
     "metadata": {},
     "output_type": "execute_result"
    }
   ],
   "source": [
    "ones"
   ]
  },
  {
   "cell_type": "code",
   "execution_count": 17,
   "id": "c15f4e2b-de51-42f6-88e9-bd0ad023db8c",
   "metadata": {},
   "outputs": [],
   "source": [
    "input  = torch.empty(1,1)"
   ]
  },
  {
   "cell_type": "code",
   "execution_count": 18,
   "id": "c9b552b5-ea9e-48a9-b8ca-7ced67b922e0",
   "metadata": {},
   "outputs": [
    {
     "data": {
      "text/plain": [
       "tensor([[1.]])"
      ]
     },
     "execution_count": 18,
     "metadata": {},
     "output_type": "execute_result"
    }
   ],
   "source": [
    "input"
   ]
  },
  {
   "cell_type": "code",
   "execution_count": 19,
   "id": "2c0ac442-6b2b-467a-aa5e-553b3a1ca174",
   "metadata": {},
   "outputs": [],
   "source": [
    "arange = torch.arange(2,256)"
   ]
  },
  {
   "cell_type": "code",
   "execution_count": 20,
   "id": "b49c01d3-8a66-4455-96e2-9ae31ee4ea4e",
   "metadata": {},
   "outputs": [
    {
     "data": {
      "text/plain": [
       "tensor([  2,   3,   4,   5,   6,   7,   8,   9,  10,  11,  12,  13,  14,  15,\n",
       "         16,  17,  18,  19,  20,  21,  22,  23,  24,  25,  26,  27,  28,  29,\n",
       "         30,  31,  32,  33,  34,  35,  36,  37,  38,  39,  40,  41,  42,  43,\n",
       "         44,  45,  46,  47,  48,  49,  50,  51,  52,  53,  54,  55,  56,  57,\n",
       "         58,  59,  60,  61,  62,  63,  64,  65,  66,  67,  68,  69,  70,  71,\n",
       "         72,  73,  74,  75,  76,  77,  78,  79,  80,  81,  82,  83,  84,  85,\n",
       "         86,  87,  88,  89,  90,  91,  92,  93,  94,  95,  96,  97,  98,  99,\n",
       "        100, 101, 102, 103, 104, 105, 106, 107, 108, 109, 110, 111, 112, 113,\n",
       "        114, 115, 116, 117, 118, 119, 120, 121, 122, 123, 124, 125, 126, 127,\n",
       "        128, 129, 130, 131, 132, 133, 134, 135, 136, 137, 138, 139, 140, 141,\n",
       "        142, 143, 144, 145, 146, 147, 148, 149, 150, 151, 152, 153, 154, 155,\n",
       "        156, 157, 158, 159, 160, 161, 162, 163, 164, 165, 166, 167, 168, 169,\n",
       "        170, 171, 172, 173, 174, 175, 176, 177, 178, 179, 180, 181, 182, 183,\n",
       "        184, 185, 186, 187, 188, 189, 190, 191, 192, 193, 194, 195, 196, 197,\n",
       "        198, 199, 200, 201, 202, 203, 204, 205, 206, 207, 208, 209, 210, 211,\n",
       "        212, 213, 214, 215, 216, 217, 218, 219, 220, 221, 222, 223, 224, 225,\n",
       "        226, 227, 228, 229, 230, 231, 232, 233, 234, 235, 236, 237, 238, 239,\n",
       "        240, 241, 242, 243, 244, 245, 246, 247, 248, 249, 250, 251, 252, 253,\n",
       "        254, 255])"
      ]
     },
     "execution_count": 20,
     "metadata": {},
     "output_type": "execute_result"
    }
   ],
   "source": [
    "arange"
   ]
  },
  {
   "cell_type": "code",
   "execution_count": 21,
   "id": "71e74408-6d05-4277-964a-671346273bd4",
   "metadata": {},
   "outputs": [],
   "source": [
    "linspace = torch.linspace(2,10,steps = 10)"
   ]
  },
  {
   "cell_type": "code",
   "execution_count": 22,
   "id": "ff0b8abc-ce4e-471a-8c7a-61b8ab5e88c8",
   "metadata": {},
   "outputs": [
    {
     "data": {
      "text/plain": [
       "tensor([ 2.0000,  2.8889,  3.7778,  4.6667,  5.5556,  6.4444,  7.3333,  8.2222,\n",
       "         9.1111, 10.0000])"
      ]
     },
     "execution_count": 22,
     "metadata": {},
     "output_type": "execute_result"
    }
   ],
   "source": [
    "linspace"
   ]
  },
  {
   "cell_type": "code",
   "execution_count": 23,
   "id": "289c409e-2509-4cbf-9289-eff8e7990fd3",
   "metadata": {},
   "outputs": [
    {
     "data": {
      "text/plain": [
       "torch.Tensor"
      ]
     },
     "execution_count": 23,
     "metadata": {},
     "output_type": "execute_result"
    }
   ],
   "source": [
    "type(linspace)"
   ]
  },
  {
   "cell_type": "code",
   "execution_count": 24,
   "id": "557d9ccd-26f6-4f4b-aa73-d0cf1baef728",
   "metadata": {},
   "outputs": [],
   "source": [
    "#linspace is used when you want the constant increment in specific steps in specific range."
   ]
  },
  {
   "cell_type": "code",
   "execution_count": 25,
   "id": "50a52472-9b71-445a-ade1-46ca50eca2f3",
   "metadata": {},
   "outputs": [],
   "source": [
    "logspace = torch.logspace(3,5,8)"
   ]
  },
  {
   "cell_type": "code",
   "execution_count": 26,
   "id": "913bcde9-5335-453b-9e7f-dcacc68d62b5",
   "metadata": {},
   "outputs": [
    {
     "data": {
      "text/plain": [
       "tensor([  1000.0000,   1930.6978,   3727.5938,   7196.8569,  13894.9551,\n",
       "         26826.9570,  51794.7461, 100000.0000])"
      ]
     },
     "execution_count": 26,
     "metadata": {},
     "output_type": "execute_result"
    }
   ],
   "source": [
    "logspace"
   ]
  },
  {
   "cell_type": "code",
   "execution_count": 27,
   "id": "713ca662-957f-4ce5-bbe9-ed7b976cd936",
   "metadata": {},
   "outputs": [],
   "source": [
    "eye = torch.eye(5)"
   ]
  },
  {
   "cell_type": "code",
   "execution_count": 28,
   "id": "cc3add14-aa0e-43b8-9dce-038b2f08e1b7",
   "metadata": {},
   "outputs": [
    {
     "data": {
      "text/plain": [
       "tensor([[1., 0., 0., 0., 0.],\n",
       "        [0., 1., 0., 0., 0.],\n",
       "        [0., 0., 1., 0., 0.],\n",
       "        [0., 0., 0., 1., 0.],\n",
       "        [0., 0., 0., 0., 1.]])"
      ]
     },
     "execution_count": 28,
     "metadata": {},
     "output_type": "execute_result"
    }
   ],
   "source": [
    "eye"
   ]
  },
  {
   "cell_type": "code",
   "execution_count": 29,
   "id": "a6e4d07d-27a7-44ce-b202-4bfd692ef839",
   "metadata": {},
   "outputs": [],
   "source": [
    "empty = torch.empty((3,2), dtype = int)"
   ]
  },
  {
   "cell_type": "code",
   "execution_count": 30,
   "id": "b5486256-29e4-485d-a6db-f3014d784e4a",
   "metadata": {},
   "outputs": [
    {
     "data": {
      "text/plain": [
       "tensor([[0, 0],\n",
       "        [0, 0],\n",
       "        [0, 0]])"
      ]
     },
     "execution_count": 30,
     "metadata": {},
     "output_type": "execute_result"
    }
   ],
   "source": [
    "empty"
   ]
  },
  {
   "cell_type": "code",
   "execution_count": 31,
   "id": "5778a81e-4c5d-49fc-974d-e28992c0f4d6",
   "metadata": {},
   "outputs": [],
   "source": [
    "empty_like = torch.empty_like(empty)\n"
   ]
  },
  {
   "cell_type": "code",
   "execution_count": 32,
   "id": "227a856e-eefc-4bdc-8780-2466760949e2",
   "metadata": {},
   "outputs": [
    {
     "data": {
      "text/plain": [
       "tensor([[0, 0],\n",
       "        [0, 0],\n",
       "        [0, 0]])"
      ]
     },
     "execution_count": 32,
     "metadata": {},
     "output_type": "execute_result"
    }
   ],
   "source": [
    "empty_like"
   ]
  },
  {
   "cell_type": "code",
   "execution_count": 33,
   "id": "c7b139c9-bcbf-470d-9190-23488cc26c6e",
   "metadata": {},
   "outputs": [
    {
     "data": {
      "text/plain": [
       "torch.Tensor"
      ]
     },
     "execution_count": 33,
     "metadata": {},
     "output_type": "execute_result"
    }
   ],
   "source": [
    "type(empty)"
   ]
  },
  {
   "cell_type": "code",
   "execution_count": 34,
   "id": "368653a2-46b5-4135-8264-6f14adba8ad5",
   "metadata": {},
   "outputs": [
    {
     "data": {
      "text/plain": [
       "torch.Tensor"
      ]
     },
     "execution_count": 34,
     "metadata": {},
     "output_type": "execute_result"
    }
   ],
   "source": [
    "type(empty_like)"
   ]
  },
  {
   "cell_type": "code",
   "execution_count": 35,
   "id": "83c331f9-d735-41b6-a081-b89c8b2ce9e2",
   "metadata": {},
   "outputs": [],
   "source": [
    "start_time = time.time()\n",
    "zeros = torch.zeros(3,3)\n",
    "end_time  = time.time()\n",
    "\n",
    "elapsed_time = end_time-start_time"
   ]
  },
  {
   "cell_type": "code",
   "execution_count": 36,
   "id": "59082c13-1199-43c2-8feb-1c38e2f4610b",
   "metadata": {},
   "outputs": [
    {
     "name": "stdout",
     "output_type": "stream",
     "text": [
      "0.0000\n"
     ]
    }
   ],
   "source": [
    "# print(f\"{elapsed_time.4f}\")\n",
    "print(f\"{elapsed_time:.4f}\")"
   ]
  },
  {
   "cell_type": "code",
   "execution_count": 37,
   "id": "6557ec35-50c1-474c-b7a6-c869f68622af",
   "metadata": {},
   "outputs": [
    {
     "name": "stdout",
     "output_type": "stream",
     "text": [
      "Time taken for PyTorch matrix multiplication: 1.3801 seconds\n",
      "Time taken for NumPy element-wise multiplication: 3.1977 seconds\n"
     ]
    }
   ],
   "source": [
    "# import torch\n",
    "# import numpy as np\n",
    "# import time\n",
    "\n",
    "# # Check if CUDA is available and set the device accordingly\n",
    "# device = 'cuda' if torch.cuda.is_available() else 'cpu'\n",
    "# print(f\"Device: {device}\")\n",
    "\n",
    "m1 = torch.rand(10, 10, 10, 10).to(device)\n",
    "m2 = torch.rand(10, 10, 10, 10).to(device)\n",
    "\n",
    "\n",
    "start = time.time()\n",
    "m3 = m1 @ m2  \n",
    "end = time.time()\n",
    "elapsed = end - start\n",
    "print(f\"Time taken for PyTorch matrix multiplication: {elapsed:.4f} seconds\")\n",
    "\n",
    "start1 = time.time()\n",
    "m4 = m1*m2\n",
    "end1 = time.time()\n",
    "elapsed1 = end1 - start1\n",
    "print(f\"Time taken for NumPy element-wise multiplication: {elapsed1:.4f} seconds\")\n"
   ]
  },
  {
   "cell_type": "code",
   "execution_count": 38,
   "id": "62af0082-b107-476e-910f-f51110eae576",
   "metadata": {},
   "outputs": [],
   "source": [
    "probabilities = torch.tensor([0.1,0.9])"
   ]
  },
  {
   "cell_type": "code",
   "execution_count": 39,
   "id": "78459787-48d0-4030-b7f8-9c00837f8091",
   "metadata": {},
   "outputs": [
    {
     "data": {
      "text/plain": [
       "tensor([1, 1, 1, 1, 1, 1, 1, 1, 1, 1])"
      ]
     },
     "execution_count": 39,
     "metadata": {},
     "output_type": "execute_result"
    }
   ],
   "source": [
    "samples = torch.multinomial(probabilities, num_samples = 10, replacement = True)\n",
    "samples"
   ]
  },
  {
   "cell_type": "code",
   "execution_count": 40,
   "id": "cc339626-af75-4659-8efb-a951a0b0cbf0",
   "metadata": {},
   "outputs": [
    {
     "data": {
      "text/plain": [
       "tensor([1, 2, 3, 4, 7])"
      ]
     },
     "execution_count": 40,
     "metadata": {},
     "output_type": "execute_result"
    }
   ],
   "source": [
    "tensor = torch.tensor([1,2,3,4])\n",
    "tensor_ = torch.cat((tensor, torch.tensor([7])), dim = 0)\n",
    "tensor_"
   ]
  },
  {
   "cell_type": "code",
   "execution_count": 41,
   "id": "4380f8d1-3c53-4373-a6bf-131179d391e9",
   "metadata": {},
   "outputs": [
    {
     "data": {
      "text/plain": [
       "tensor([[1., 0., 0., 0., 0.],\n",
       "        [1., 1., 0., 0., 0.],\n",
       "        [1., 1., 1., 0., 0.],\n",
       "        [1., 1., 1., 1., 0.],\n",
       "        [1., 1., 1., 1., 1.]])"
      ]
     },
     "execution_count": 41,
     "metadata": {},
     "output_type": "execute_result"
    }
   ],
   "source": [
    "out = torch.tril(torch.ones(5,5))\n",
    "out"
   ]
  },
  {
   "cell_type": "code",
   "execution_count": 42,
   "id": "1000fd90-5425-4957-99db-803113a5a85c",
   "metadata": {},
   "outputs": [
    {
     "data": {
      "text/plain": [
       "tensor([[1., 1., 1., 1., 1.],\n",
       "        [0., 1., 1., 1., 1.],\n",
       "        [0., 0., 1., 1., 1.],\n",
       "        [0., 0., 0., 1., 1.],\n",
       "        [0., 0., 0., 0., 1.]])"
      ]
     },
     "execution_count": 42,
     "metadata": {},
     "output_type": "execute_result"
    }
   ],
   "source": [
    "out  = torch.triu(torch.ones(5,5))\n",
    "out"
   ]
  },
  {
   "cell_type": "code",
   "execution_count": 43,
   "id": "bb11a751-fef6-45fd-ba90-1c4ce0073d03",
   "metadata": {},
   "outputs": [
    {
     "data": {
      "text/plain": [
       "tensor([[ 0., -5., -5., -5., -5.],\n",
       "        [ 0.,  0., -5., -5., -5.],\n",
       "        [ 0.,  0.,  0., -5., -5.],\n",
       "        [ 0.,  0.,  0.,  0., -5.],\n",
       "        [ 0.,  0.,  0.,  0.,  0.]])"
      ]
     },
     "execution_count": 43,
     "metadata": {},
     "output_type": "execute_result"
    }
   ],
   "source": [
    "out = torch.zeros(5,5).masked_fill(torch.tril(torch.ones(5,5))==0, float(-5))\n",
    "out"
   ]
  },
  {
   "cell_type": "code",
   "execution_count": 44,
   "id": "13cc9e20-2fe2-49e7-a15c-68ff44827c40",
   "metadata": {},
   "outputs": [
    {
     "data": {
      "text/plain": [
       "tensor([[1.0000, 0.0067, 0.0067, 0.0067, 0.0067],\n",
       "        [1.0000, 1.0000, 0.0067, 0.0067, 0.0067],\n",
       "        [1.0000, 1.0000, 1.0000, 0.0067, 0.0067],\n",
       "        [1.0000, 1.0000, 1.0000, 1.0000, 0.0067],\n",
       "        [1.0000, 1.0000, 1.0000, 1.0000, 1.0000]])"
      ]
     },
     "execution_count": 44,
     "metadata": {},
     "output_type": "execute_result"
    }
   ],
   "source": [
    "torch.exp(out)"
   ]
  },
  {
   "cell_type": "code",
   "execution_count": 45,
   "id": "571c224d-2f22-4f83-87b0-216d4a7b37f9",
   "metadata": {},
   "outputs": [
    {
     "data": {
      "text/plain": [
       "tensor([[[0., 0.],\n",
       "         [0., 0.],\n",
       "         [0., 0.]],\n",
       "\n",
       "        [[0., 0.],\n",
       "         [0., 0.],\n",
       "         [0., 0.]],\n",
       "\n",
       "        [[0., 0.],\n",
       "         [0., 0.],\n",
       "         [0., 0.]],\n",
       "\n",
       "        [[0., 0.],\n",
       "         [0., 0.],\n",
       "         [0., 0.]]])"
      ]
     },
     "execution_count": 45,
     "metadata": {},
     "output_type": "execute_result"
    }
   ],
   "source": [
    "input = torch.zeros(4,3,2)\n",
    "input "
   ]
  },
  {
   "cell_type": "code",
   "execution_count": 46,
   "id": "f1c26eab-731c-4c3e-9322-79aeff951a7e",
   "metadata": {},
   "outputs": [
    {
     "name": "stdout",
     "output_type": "stream",
     "text": [
      "tensor([[[0., 0., 0., 0.],\n",
      "         [0., 0., 0., 0.],\n",
      "         [0., 0., 0., 0.]],\n",
      "\n",
      "        [[0., 0., 0., 0.],\n",
      "         [0., 0., 0., 0.],\n",
      "         [0., 0., 0., 0.]]])\n"
     ]
    },
    {
     "data": {
      "text/plain": [
       "torch.Size([2, 3, 4])"
      ]
     },
     "execution_count": 46,
     "metadata": {},
     "output_type": "execute_result"
    }
   ],
   "source": [
    "out  = input.transpose(0,2)\n",
    "print(out)\n",
    "out.shape"
   ]
  },
  {
   "cell_type": "code",
   "execution_count": 47,
   "id": "744589bf-2b42-4442-8f62-ad90695b5068",
   "metadata": {},
   "outputs": [
    {
     "name": "stdout",
     "output_type": "stream",
     "text": [
      "tensor([[1, 2, 3],\n",
      "        [1, 2, 9],\n",
      "        [1, 2, 3]])\n",
      "torch.Size([3, 3])\n",
      "<built-in method type of Tensor object at 0x000002C8A7839550>\n"
     ]
    }
   ],
   "source": [
    "t1 = torch.tensor([1,2,3])\n",
    "t2 = torch.tensor([1,2,3])\n",
    "t3 = torch.tensor([1,2,9])\n",
    "\n",
    "t4 = torch.stack([t1,t3,t2])\n",
    "print(t4)\n",
    "print(t4.shape)\n",
    "print(t4.type)"
   ]
  },
  {
   "cell_type": "code",
   "execution_count": 48,
   "id": "a24feef0-7a28-4898-9a19-b6493e90809d",
   "metadata": {},
   "outputs": [
    {
     "data": {
      "text/plain": [
       "tensor([ 6.7593,  7.3051, -1.6230], grad_fn=<SqueezeBackward4>)"
      ]
     },
     "execution_count": 48,
     "metadata": {},
     "output_type": "execute_result"
    }
   ],
   "source": [
    "import torch.nn as nn\n",
    "input_ = torch.tensor([10.,10.,10.])\n",
    "nn_ = nn.Linear(3,3, bias = False )\n",
    "nn_(input_)"
   ]
  },
  {
   "cell_type": "code",
   "execution_count": 49,
   "id": "10d26643-46c9-4f19-8db0-5ebee312f1ab",
   "metadata": {},
   "outputs": [
    {
     "name": "stdout",
     "output_type": "stream",
     "text": [
      "tensor([0.3333, 0.3333, 0.3333])\n"
     ]
    }
   ],
   "source": [
    "import torch.nn.functional as f\n",
    "tensor_ = torch.tensor([10, 10., 10.])\n",
    "\n",
    "s = f.softmax(tensor_, dim = -1)\n",
    "print(s)\n"
   ]
  },
  {
   "cell_type": "code",
   "execution_count": 56,
   "id": "d7642945-23d6-49e0-adb5-116423adafc1",
   "metadata": {},
   "outputs": [
    {
     "name": "stdout",
     "output_type": "stream",
     "text": [
      "torch.Size([6, 6])\n",
      "tensor([[ 0.1648,  0.0166, -0.8359,  0.1642,  1.1018,  0.2074],\n",
      "        [ 1.4485, -0.0105,  1.0238, -0.8001,  0.4143, -0.2899],\n",
      "        [ 0.1324,  1.5178,  2.3409, -0.4126, -1.1943,  1.0129],\n",
      "        [ 0.7365, -0.6354, -0.7299,  0.1036,  0.6750,  0.8347],\n",
      "        [ 0.7878,  0.3045,  1.5088,  1.6801, -0.2527, -0.4315],\n",
      "        [ 0.7565, -0.0088, -1.1209, -0.3795,  0.8477, -0.3040]],\n",
      "       grad_fn=<EmbeddingBackward0>)\n"
     ]
    }
   ],
   "source": [
    "vocab_size = 80\n",
    "embedding_dim = 6\n",
    "embeddings = nn.Embedding(vocab_size,embedding_dim)\n",
    "# print(embeddings)\n",
    "\n",
    "input_ = torch.LongTensor([1,5,3,2,8,9])\n",
    "\n",
    "output = embeddings(input_)\n",
    "\n",
    "print(output.shape)\n",
    "print(output)"
   ]
  },
  {
   "cell_type": "code",
   "execution_count": 60,
   "id": "e96373cb-fa55-4434-9b13-5d7251f18da5",
   "metadata": {},
   "outputs": [
    {
     "name": "stdout",
     "output_type": "stream",
     "text": [
      "tensor([[0., 0., 1.],\n",
      "        [1., 2., 0.]])\n",
      "tensor([[0.2291, 0.0231],\n",
      "        [0.7367, 0.3247],\n",
      "        [0.2251, 0.6668]])\n",
      "tensor([[0.2251, 0.6668],\n",
      "        [1.7025, 0.6725]])\n"
     ]
    }
   ],
   "source": [
    "int_64 = torch.randint(3, (2,3)).float()\n",
    "print(int_64)\n",
    "f = torch.rand(3,2)\n",
    "print(f)\n",
    "out = torch.matmul(int_64, f)\n",
    "print(out)"
   ]
  },
  {
   "cell_type": "code",
   "execution_count": null,
   "id": "9052d8ce-957f-4b49-84ed-f73890ba41c6",
   "metadata": {},
   "outputs": [],
   "source": []
  }
 ],
 "metadata": {
  "kernelspec": {
   "display_name": "cuda-gpt",
   "language": "python",
   "name": "cuda"
  },
  "language_info": {
   "codemirror_mode": {
    "name": "ipython",
    "version": 3
   },
   "file_extension": ".py",
   "mimetype": "text/x-python",
   "name": "python",
   "nbconvert_exporter": "python",
   "pygments_lexer": "ipython3",
   "version": "3.12.4"
  }
 },
 "nbformat": 4,
 "nbformat_minor": 5
}
